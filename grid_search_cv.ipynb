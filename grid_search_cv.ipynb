{
 "cells": [
  {
   "cell_type": "markdown",
   "id": "f2a6410f",
   "metadata": {},
   "source": [
    "## Redes Neurais Artificiais 2025.1\n",
    "\n",
    "- **Disciplina**: Redes Neurais Artificiais 2025.1  \n",
    "- **Professora**: Elloá B. Guedes (ebgcosta@uea.edu.br)  \n",
    "- **Github**: http://github.com/elloa  \n",
    "\n",
    "|Alunos                |Matrícula  |\n",
    "|----------------------|-----------|\n",
    "|Caio Bertoldo         |2215080050 |\n",
    "|Danilo Jorge          |2215080007 |\n",
    "|Diogo Gomes           |2215080033 |\n",
    "|Guilherme Montenegro  |2215080011 |\n",
    "|Leonardo Abinader     |2215080042 |\n",
    "|Rodolfo Simões        |2215080073 |\n",
    "\n",
    "### Busca em grade com Validação Cruzada"
   ]
  },
  {
   "cell_type": "code",
   "execution_count": null,
   "id": "b9e2ea07",
   "metadata": {},
   "outputs": [],
   "source": [
    "# Bibliotecas\n",
    "import pandas as pd\n",
    "from sklearn.model_selection import GridSearchCV\n",
    "from sklearn.neural_network import MLPClassifier"
   ]
  }
 ],
 "metadata": {
  "kernelspec": {
   "display_name": "pydata-book",
   "language": "python",
   "name": "python3"
  },
  "language_info": {
   "name": "python",
   "version": "3.12.9"
  }
 },
 "nbformat": 4,
 "nbformat_minor": 5
}
